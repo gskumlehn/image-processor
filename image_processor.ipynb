{
  "nbformat": 4,
  "nbformat_minor": 0,
  "metadata": {
    "colab": {
      "provenance": [],
      "authorship_tag": "ABX9TyMSTAjKiDR9IfDO5f2vzoXu",
      "include_colab_link": true
    },
    "kernelspec": {
      "name": "python3",
      "display_name": "Python 3"
    },
    "language_info": {
      "name": "python"
    }
  },
  "cells": [
    {
      "cell_type": "markdown",
      "metadata": {
        "id": "view-in-github",
        "colab_type": "text"
      },
      "source": [
        "<a href=\"https://colab.research.google.com/github/gskumlehn/image-processor/blob/main/image_processor.ipynb\" target=\"_parent\"><img src=\"https://colab.research.google.com/assets/colab-badge.svg\" alt=\"Open In Colab\"/></a>"
      ]
    },
    {
      "cell_type": "code",
      "execution_count": 31,
      "metadata": {
        "colab": {
          "base_uri": "https://localhost:8080/"
        },
        "id": "ypt-2DR5qvpF",
        "outputId": "03bd9a45-f812-42ca-d96f-4c45dbb493e1"
      },
      "outputs": [
        {
          "output_type": "stream",
          "name": "stdout",
          "text": [
            "fatal: destination path 'image-processor' already exists and is not an empty directory.\n"
          ]
        }
      ],
      "source": [
        "!git clone https://github.com/gskumlehn/image-processor.git"
      ]
    },
    {
      "cell_type": "code",
      "source": [
        "from PIL import Image\n",
        "\n",
        "image = Image.open(\"/content/image-processor/me.jpeg\")\n",
        "print(image.mode)"
      ],
      "metadata": {
        "colab": {
          "base_uri": "https://localhost:8080/"
        },
        "id": "TV1i7WVcq4tx",
        "outputId": "1a01c261-ccbf-49a1-f47c-87169f7ae805"
      },
      "execution_count": 32,
      "outputs": [
        {
          "output_type": "stream",
          "name": "stdout",
          "text": [
            "RGB\n"
          ]
        }
      ]
    },
    {
      "cell_type": "code",
      "source": [
        "if (image.mode != \"RGB\"):\n",
        "  image = image.convert(\"RGB\")"
      ],
      "metadata": {
        "id": "AbWXYdITrs2E"
      },
      "execution_count": 33,
      "outputs": []
    },
    {
      "cell_type": "code",
      "source": [
        "def convert_to_gray(image):\n",
        "    gray_image = Image.new(\"L\", image.size)\n",
        "\n",
        "    for x in range(width):\n",
        "        for y in range(height):\n",
        "            r, g, b = image.getpixel((x, y))\n",
        "\n",
        "            gray = int(0.3 * r + 0.59 * g + 0.11 * b)\n",
        "\n",
        "            gray_image.putpixel((x, y), gray)\n",
        "\n",
        "    gray_image.save(\"/content/image-processor/gray_me.jpeg\")\n",
        "    return gray_image\n",
        "\n",
        "\n",
        "\n"
      ],
      "metadata": {
        "id": "5rleOPmCrrzR"
      },
      "execution_count": 34,
      "outputs": []
    },
    {
      "cell_type": "code",
      "source": [
        "gray_image = convert_to_gray(image)"
      ],
      "metadata": {
        "id": "CusgYWBcsEKw"
      },
      "execution_count": 35,
      "outputs": []
    },
    {
      "cell_type": "code",
      "source": [
        "def convert_to_binary(image):\n",
        "    if (image.mode != \"L\"):\n",
        "        image = convert_to_gray(image)\n",
        "\n",
        "    binary_image = Image.new(\"1\", image.size)\n",
        "\n",
        "    for x in range(width):\n",
        "        for y in range(height):\n",
        "            gray = image.getpixel((x, y))\n",
        "\n",
        "            binary = 255 if gray > 128 else 0\n",
        "\n",
        "            binary_image.putpixel((x, y), binary)\n",
        "\n",
        "\n",
        "    binary_image.save(\"/content/image-processor/binary_me.jpeg\")\n",
        "    return binary_image"
      ],
      "metadata": {
        "id": "gS-1coG3tnKe"
      },
      "execution_count": 36,
      "outputs": []
    },
    {
      "cell_type": "code",
      "source": [
        "binary_image = convert_to_binary(image)"
      ],
      "metadata": {
        "id": "cHhq3pZ0ulZK"
      },
      "execution_count": 37,
      "outputs": []
    }
  ]
}